{
 "cells": [
  {
   "cell_type": "code",
   "execution_count": 1,
   "metadata": {
    "collapsed": true
   },
   "outputs": [],
   "source": [
    "import numpy as np\n",
    "import seaborn as sns\n",
    "import glob, gzip, pickle\n",
    "from pylab import rcParams\n",
    "import matplotlib.patches as patches\n",
    "from pylab import Rectangle\n",
    "import seaborn as sns\n",
    "import matplotlib.pyplot as plt\n",
    "%matplotlib inline"
   ]
  },
  {
   "cell_type": "code",
   "execution_count": 237,
   "metadata": {
    "collapsed": true
   },
   "outputs": [],
   "source": [
    "folder = '../nphc/nphc/datasets/simulated/exp/'\n",
    "L = glob.glob(folder + '*')"
   ]
  },
  {
   "cell_type": "code",
   "execution_count": 238,
   "metadata": {
    "collapsed": false
   },
   "outputs": [
    {
     "data": {
      "text/plain": [
       "3"
      ]
     },
     "execution_count": 238,
     "metadata": {},
     "output_type": "execute_result"
    }
   ],
   "source": [
    "len(L)"
   ]
  },
  {
   "cell_type": "code",
   "execution_count": 239,
   "metadata": {
    "collapsed": false
   },
   "outputs": [
    {
     "name": "stdout",
     "output_type": "stream",
     "text": [
      "../nphc/nphc/datasets/simulated/exp/exp_d100_nonsym_1_log10T8_with_params_000.pkl.gz\n"
     ]
    }
   ],
   "source": [
    "filename = L[2]\n",
    "print(filename)"
   ]
  },
  {
   "cell_type": "code",
   "execution_count": 240,
   "metadata": {
    "collapsed": true
   },
   "outputs": [],
   "source": [
    "f = gzip.open(filename)\n",
    "data = pickle.load(f)\n",
    "f.close()"
   ]
  },
  {
   "cell_type": "code",
   "execution_count": null,
   "metadata": {
    "collapsed": true
   },
   "outputs": [],
   "source": [
    "timestamps, Alpha = data[:2]"
   ]
  },
  {
   "cell_type": "markdown",
   "metadata": {},
   "source": [
    "# Fit (=> compute the cumulants)"
   ]
  },
  {
   "cell_type": "code",
   "execution_count": null,
   "metadata": {
    "collapsed": false
   },
   "outputs": [
    {
     "name": "stdout",
     "output_type": "stream",
     "text": [
      "L is computed\n"
     ]
    }
   ],
   "source": [
    "import whma.cumulants as cu\n",
    "half_width = 1000.\n",
    "cumul = cu.Cumulants(timestamps, half_width=half_width)\n",
    "cumul.compute_cumulants(half_width,method=\"parallel_by_day\")"
   ]
  },
  {
   "cell_type": "markdown",
   "metadata": {},
   "source": [
    "# Solve (=> minimize the objective function via ADMM)"
   ]
  },
  {
   "cell_type": "code",
   "execution_count": null,
   "metadata": {
    "collapsed": true
   },
   "outputs": [],
   "source": [
    "from whma.solver import admm\n",
    "from time import time\n",
    "from whma.prox import prox_l1, prox_sq_frob, prox_l2, prox_zero, prox_nuclear\n",
    "start = time.time()\n",
    "G = admm(cumul, prox_l1, rho=1e0, maxiter=1000)\n",
    "elapsed = time.time() - start"
   ]
  },
  {
   "cell_type": "code",
   "execution_count": null,
   "metadata": {
    "collapsed": true
   },
   "outputs": [],
   "source": [
    "print(elapsed)"
   ]
  },
  {
   "cell_type": "code",
   "execution_count": 235,
   "metadata": {
    "collapsed": false
   },
   "outputs": [
    {
     "name": "stdout",
     "output_type": "stream",
     "text": [
      "0.179674105678\n"
     ]
    }
   ],
   "source": [
    "from nphc.utils.metrics import rel_err\n",
    "print(rel_err(Alpha,G))"
   ]
  },
  {
   "cell_type": "code",
   "execution_count": 236,
   "metadata": {
    "collapsed": false
   },
   "outputs": [
    {
     "data": {
      "text/plain": [
       "<matplotlib.axes._subplots.AxesSubplot at 0x7faa9f23b0b8>"
      ]
     },
     "execution_count": 236,
     "metadata": {},
     "output_type": "execute_result"
    },
    {
     "data": {
      "image/png": "[encoded data removed]",
      "text/plain": [
       "<matplotlib.figure.Figure at 0x7faab6b41fd0>"
      ]
     },
     "metadata": {},
     "output_type": "display_data"
    }
   ],
   "source": [
    "%matplotlib inline\n",
    "import seaborn as sns\n",
    "sns.heatmap(G)"
   ]
  },
  {
   "cell_type": "code",
   "execution_count": 149,
   "metadata": {
    "collapsed": true
   },
   "outputs": [],
   "source": [
    "# EXP 100\n",
    "#\n",
    "# L1 norm\n",
    "# maxiter=1500 --> rel_err=0.0935\n",
    "#\n",
    "# squared L2 norm\n",
    "# maxiter=100 --> rel_err=0.130\n",
    "#\n",
    "# nuclear norm\n",
    "# maxiter=100 --> rel_err=0.131\n",
    "#\n",
    "#\n",
    "# PLAW 10\n",
    "# \n",
    "# L1 norm\n",
    "# maxiter=1500 --> rel_err=0.147\n",
    "#\n",
    "# squared L2 norm\n",
    "# maxiter=5000 --> rel_err=0.173\n",
    "#\n",
    "# nuclear norm\n",
    "# maxiter=5000 --> rel_err=0.182\n",
    "#\n",
    "#\n",
    "# PLAW 10\n",
    "# \n",
    "# L1 norm\n",
    "# maxiter=1500 --> rel_err=0.147\n",
    "#\n",
    "# squared L2 norm\n",
    "# maxiter=5000 --> rel_err=0.173\n",
    "#\n",
    "# nuclear norm\n",
    "# maxiter=100 --> rel_err=0.182"
   ]
  },
  {
   "cell_type": "code",
   "execution_count": 185,
   "metadata": {
    "collapsed": false
   },
   "outputs": [
    {
     "data": {
      "text/plain": [
       "<matplotlib.axes._subplots.AxesSubplot at 0x7faa9f15b390>"
      ]
     },
     "execution_count": 185,
     "metadata": {},
     "output_type": "execute_result"
    },
    {
     "data": {
      "image/png": "[encoded data removed]",
      "text/plain": [
       "<matplotlib.figure.Figure at 0x7faa9ee25a20>"
      ]
     },
     "metadata": {},
     "output_type": "display_data"
    }
   ],
   "source": [
    "sns.heatmap(Alpha)"
   ]
  },
  {
   "cell_type": "code",
   "execution_count": 137,
   "metadata": {
    "collapsed": false
   },
   "outputs": [
    {
     "data": {
      "text/plain": [
       "0.16666666666666666"
      ]
     },
     "execution_count": 137,
     "metadata": {},
     "output_type": "execute_result"
    }
   ],
   "source": [
    "Alpha[0,0]"
   ]
  },
  {
   "cell_type": "markdown",
   "metadata": {},
   "source": [
    "# Nice heatmaps"
   ]
  },
  {
   "cell_type": "code",
   "execution_count": 135,
   "metadata": {
    "collapsed": true
   },
   "outputs": [],
   "source": [
    "from pylab import rcParams\n",
    "from pylab import Rectangle\n",
    "import matplotlib.pyplot as plt\n",
    "import matplotlib.patches as patches\n",
    "%matplotlib inline"
   ]
  },
  {
   "cell_type": "code",
   "execution_count": 219,
   "metadata": {
    "collapsed": false
   },
   "outputs": [
    {
     "data": {
      "image/png": "[encoded data removed]",
      "text/plain": [
       "<matplotlib.figure.Figure at 0x7faa9df76a58>"
      ]
     },
     "metadata": {},
     "output_type": "display_data"
    }
   ],
   "source": [
    "fig, ax = plt.subplots(1, 1, figsize=(12,9))\n",
    "\n",
    "heatmap = ax.pcolor(G,cmap='Spectral',vmin=-0.2,vmax=0.2)\n",
    "#heatmap = ax.pcolor(Alpha,cmap='Spectral',vmin=-0.2,vmax=0.2)\n",
    "\n",
    "ax.add_patch(\n",
    "    patches.Rectangle(\n",
    "        (0., 0.),   # (x,y)\n",
    "        100,          # width\n",
    "        100,          # height\n",
    "        #facecolor=\"#00ffff\",\n",
    "        fill=False,\n",
    "        linewidth=4\n",
    "    )\n",
    ")\n",
    "\n",
    "ax.set_xticklabels([])\n",
    "ax.set_yticklabels([])\n",
    "#ax.set_axis_off()\n",
    "\n",
    "fig.subplots_adjust(right=0.8)\n",
    "#cbar_ax = fig.add_axes([0.82, 0.15, 0.05, 0.7])\n",
    "#fig.colorbar(heatmap, cax=cbar_ax)\n",
    "cb = fig.colorbar(heatmap, fraction=0.05, pad=0.04)\n",
    "cb.ax.tick_params(labelsize=20)\n",
    "fig.savefig(\"plaw10_sq_frob.png\")"
   ]
  },
  {
   "cell_type": "code",
   "execution_count": null,
   "metadata": {
    "collapsed": true
   },
   "outputs": [],
   "source": []
  }
 ],
 "metadata": {
  "kernelspec": {
   "display_name": "Python 3",
   "language": "python",
   "name": "python3"
  },
  "language_info": {
   "codemirror_mode": {
    "name": "ipython",
    "version": 3
   },
   "file_extension": ".py",
   "mimetype": "text/x-python",
   "name": "python",
   "nbconvert_exporter": "python",
   "pygments_lexer": "ipython3",
   "version": "3.5.3"
  }
 },
 "nbformat": 4,
 "nbformat_minor": 0
}
