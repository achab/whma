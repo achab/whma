{
 "cells": [
  {
   "cell_type": "code",
   "execution_count": null,
   "metadata": {
    "collapsed": true
   },
   "outputs": [],
   "source": [
    "import numpy as np\n",
    "from scipy.linalg import inv\n",
    "import mlpp.simulation as hk\n",
    "\n",
    "\n",
    "#####################################################\n",
    "### Simulation of a 10-dimensional Hawkes process ###\n",
    "#####################################################\n",
    "beta = 1.\n",
    "mu = 0.01\n",
    "d = 10\n",
    "T = 1e5\n",
    "H = 10\n",
    "n_days = 20 \n",
    "\n",
    "mus = mu * np.ones(d)\n",
    "Alpha = np.zeros((d,d))\n",
    "Beta = np.zeros((d,d))\n",
    "for i in range(5):\n",
    "    for j in range(5):\n",
    "        if i <= j:\n",
    "            Alpha[i][j] = 1.\n",
    "            Beta[i][j] = 100*beta\n",
    "for i in range(5,10):\n",
    "    for j in range(5,10):\n",
    "        if i >= j:\n",
    "            Alpha[i][j] = 1.\n",
    "            Beta[i][j] = beta\n",
    "Alpha /= 6\n",
    "\n",
    "ticks = []\n",
    "kernels = [[hk.HawkesKernelExp(a, b) for (a, b) in zip(a_list, b_list)] for (a_list, b_list) in zip(Alpha, Beta)]\n",
    "for _ in range(n_days):\n",
    "    h = hk.SimuHawkes(kernels=kernels, baseline=list(mus), end_time=T)\n",
    "    h.simulate()\n",
    "    ticks.append(h.timestamps)"
   ]
  },
  {
   "cell_type": "code",
   "execution_count": null,
   "metadata": {
    "collapsed": true
   },
   "outputs": [],
   "source": [
    "######################################\n",
    "### Fit (=> compute the cumulants) ###\n",
    "######################################\n",
    "nphc = NPHC()\n",
    "nphc.fit(ticks,half_width=10,filtr=\"rectangular\",method=\"parallel_by_day\",mu_true=mus,R_true=inv(np.eye(d)-Alpha))\n",
    "# print mean error of cumulants estimation\n",
    "from nphc.utils.metrics import rel_err\n",
    "print(\"mean rel_err on L = \", np.mean( [rel_err(nphc.L_th, L) for L in nphc.L] ))\n",
    "print(\"mean rel_err on C = \", np.mean( [rel_err(nphc.C_th, C) for C in nphc.C] ))"
   ]
  },
  {
   "cell_type": "code",
   "execution_count": null,
   "metadata": {
    "collapsed": true
   },
   "outputs": [],
   "source": [
    "#################################################\n",
    "### Solve (=> minimize the objective function ###\n",
    "#################################################\n",
    "R_pred = nphc.solve(alpha=.9,training_epochs=300,display_step=20,learning_rate=1e-2,optimizer='adam')\n",
    "\n",
    "# print final error of estimation\n",
    "G_pred = np.eye(d) - inv(R_pred)\n",
    "print(rel_err(Alpha,G_pred))"
   ]
  }
 ],
 "metadata": {
  "kernelspec": {
   "display_name": "Python 3",
   "language": "python",
   "name": "python3"
  },
  "language_info": {
   "codemirror_mode": {
    "name": "ipython",
    "version": 3
   },
   "file_extension": ".py",
   "mimetype": "text/x-python",
   "name": "python",
   "nbconvert_exporter": "python",
   "pygments_lexer": "ipython3",
   "version": "3.5.2"
  }
 },
 "nbformat": 4,
 "nbformat_minor": 1
}
